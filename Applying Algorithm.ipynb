{
 "cells": [
  {
   "cell_type": "code",
   "execution_count": 1,
   "metadata": {},
   "outputs": [],
   "source": [
    "# importing required modules;\n",
    "import pandas as pd\n",
    "from sklearn.model_selection import train_test_split\n",
    "from sklearn.ensemble import RandomForestClassifier, AdaBoostClassifier\n",
    "from sklearn import metrics\n",
    "import joblib\n"
   ]
  },
  {
   "cell_type": "code",
   "execution_count": 2,
   "metadata": {},
   "outputs": [
    {
     "name": "stdout",
     "output_type": "stream",
     "text": [
      "        Label   Area_0  Area_1  Area_2  Area_3  Area_4\n",
      "0  Uninfected  14493.5     0.0     0.0     0.0     0.0\n",
      "1  Uninfected  13663.5     0.0     0.0     0.0     0.0\n",
      "2  Uninfected  14300.0     0.0     0.0     0.0     0.0\n",
      "3  Uninfected   7735.5     0.0     0.0     0.0     0.0\n",
      "4  Uninfected  11123.0     0.0     0.0     0.0     0.0\n"
     ]
    }
   ],
   "source": [
    "#Load dataset!!\n",
    "dataframe = pd.read_csv(\"cell_images_dataset.csv\")\n",
    "print(dataframe.head())"
   ]
  },
  {
   "cell_type": "code",
   "execution_count": 4,
   "metadata": {},
   "outputs": [],
   "source": [
    "# Split into Training and Testing dataset!!\n",
    "x = dataframe.drop([\"Label\"],axis =1)\n",
    "y = dataframe[\"Label\"]\n",
    "x_train,x_test,y_train,y_test = train_test_split(x,y,test_size =0.2, random_state = 4)"
   ]
  },
  {
   "cell_type": "code",
   "execution_count": 33,
   "metadata": {},
   "outputs": [
    {
     "data": {
      "text/plain": [
       "['rf_malaria_100_5']"
      ]
     },
     "execution_count": 33,
     "metadata": {},
     "output_type": "execute_result"
    }
   ],
   "source": [
    "# Building a model!!\n",
    "model = RandomForestClassifier(n_estimators= 200, max_depth = 5)\n",
    "model.fit(x_train, y_train)\n",
    "\n",
    "# save the moedel cause every time we wont want to retrain our model, we will be using joblib for it !!\n",
    "joblib.dump(model,\"rf_malaria_100_5\")\n"
   ]
  },
  {
   "cell_type": "code",
   "execution_count": 34,
   "metadata": {},
   "outputs": [],
   "source": [
    "#x_test = x_test.fillna(x_test.mean())\n",
    "import numpy as np\n",
    "#dataframe[:] = np.nan_to_num(dataframe)\n",
    "# Making Predications\n",
    "predictions = model.predict(x_test)\n"
   ]
  },
  {
   "cell_type": "code",
   "execution_count": 35,
   "metadata": {},
   "outputs": [
    {
     "name": "stdout",
     "output_type": "stream",
     "text": [
      "              precision    recall  f1-score   support\n",
      "\n",
      " Parasitized       0.45      0.82      0.58      5468\n",
      "  Uninfected       0.91      0.64      0.75     15049\n",
      "\n",
      "    accuracy                           0.68     20517\n",
      "   macro avg       0.68      0.73      0.66     20517\n",
      "weighted avg       0.78      0.68      0.70     20517\n",
      "\n"
     ]
    }
   ],
   "source": [
    "print(metrics.classification_report(predictions, y_test))"
   ]
  },
  {
   "cell_type": "code",
   "execution_count": 37,
   "metadata": {},
   "outputs": [
    {
     "data": {
      "text/plain": [
       "0.6844567919286445"
      ]
     },
     "execution_count": 37,
     "metadata": {},
     "output_type": "execute_result"
    }
   ],
   "source": [
    "from sklearn.metrics import accuracy_score\n",
    "accuracy_score(y_test, predictions)"
   ]
  },
  {
   "cell_type": "code",
   "execution_count": null,
   "metadata": {},
   "outputs": [],
   "source": []
  }
 ],
 "metadata": {
  "kernelspec": {
   "display_name": "Python 3",
   "language": "python",
   "name": "python3"
  },
  "language_info": {
   "codemirror_mode": {
    "name": "ipython",
    "version": 3
   },
   "file_extension": ".py",
   "mimetype": "text/x-python",
   "name": "python",
   "nbconvert_exporter": "python",
   "pygments_lexer": "ipython3",
   "version": "3.8.3"
  }
 },
 "nbformat": 4,
 "nbformat_minor": 4
}
