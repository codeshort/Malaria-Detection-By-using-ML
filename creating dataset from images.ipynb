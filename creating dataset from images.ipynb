{
 "cells": [
  {
   "cell_type": "code",
   "execution_count": 18,
   "metadata": {},
   "outputs": [],
   "source": [
    "import cv2,os\n",
    "import numpy as np\n",
    "import csv\n",
    "import glob\n"
   ]
  },
  {
   "cell_type": "code",
   "execution_count": 20,
   "metadata": {},
   "outputs": [
    {
     "name": "stdout",
     "output_type": "stream",
     "text": [
      "Requirement already satisfied: pandas in c:\\users\\user\\anaconda3\\lib\\site-packages (1.0.5)\n",
      "Requirement already satisfied: scikit-learn in c:\\users\\user\\anaconda3\\lib\\site-packages (0.23.1)\n",
      "Requirement already satisfied: joblib in c:\\users\\user\\anaconda3\\lib\\site-packages (0.16.0)\n",
      "Requirement already satisfied: opencv-python in c:\\users\\user\\anaconda3\\lib\\site-packages (4.4.0.44)\n",
      "Requirement already satisfied: numpy>=1.13.3 in c:\\users\\user\\anaconda3\\lib\\site-packages (from pandas) (1.18.5)\n",
      "Requirement already satisfied: python-dateutil>=2.6.1 in c:\\users\\user\\anaconda3\\lib\\site-packages (from pandas) (2.8.1)\n",
      "Requirement already satisfied: pytz>=2017.2 in c:\\users\\user\\anaconda3\\lib\\site-packages (from pandas) (2020.1)\n",
      "Requirement already satisfied: scipy>=0.19.1 in c:\\users\\user\\anaconda3\\lib\\site-packages (from scikit-learn) (1.5.0)\n",
      "Requirement already satisfied: threadpoolctl>=2.0.0 in c:\\users\\user\\anaconda3\\lib\\site-packages (from scikit-learn) (2.1.0)\n",
      "Requirement already satisfied: six>=1.5 in c:\\users\\user\\anaconda3\\lib\\site-packages (from python-dateutil>=2.6.1->pandas) (1.15.0)\n",
      "Note: you may need to restart the kernel to use updated packages.\n"
     ]
    }
   ],
   "source": [
    "pip install pandas scikit-learn joblib opencv-python"
   ]
  },
  {
   "cell_type": "code",
   "execution_count": 21,
   "metadata": {},
   "outputs": [
    {
     "name": "stdout",
     "output_type": "stream",
     "text": [
      "all OKAY!!!\n"
     ]
    }
   ],
   "source": [
    "import cv2,os\n",
    "import numpy as np\n",
    "import csv\n",
    "import glob\n",
    "print(\"all OKAY!!!\")"
   ]
  },
  {
   "cell_type": "markdown",
   "metadata": {},
   "source": [
    "# Making a list of images in uninfected folder'"
   ]
  },
  {
   "cell_type": "code",
   "execution_count": 22,
   "metadata": {},
   "outputs": [
    {
     "name": "stdout",
     "output_type": "stream",
     "text": [
      "All Fine Till Now\n"
     ]
    }
   ],
   "source": [
    "label=\"Uninfected\"\n",
    "dirList = glob.glob(\"C:\\\\Users\\\\user\\\\Desktop\\\\Malaria Detection Project\\\\cell_images\\\\Uninfected\\*.png\")\n",
    "file = open(\"dataset.csv\",\"a\")\n",
    "print(\"All Fine Till Now\")\n"
   ]
  },
  {
   "cell_type": "code",
   "execution_count": 26,
   "metadata": {},
   "outputs": [
    {
     "name": "stdout",
     "output_type": "stream",
     "text": [
      "All di fine1\n",
      "\n"
     ]
    }
   ],
   "source": [
    " print(\"All di fine1\\n\")\n",
    "label=\"Parasitized\"\n",
    "dirList = glob.glob(\"C:\\\\Users\\\\user\\\\Desktop\\\\Malaria Detection Project\\\\cell_images\\\\Uninfected\\*.png\")\n",
    "for img_path in dirList:\n",
    "   # print(img_path)\n",
    "    im= cv2.imread(img_path)\n",
    "    im = cv2.GaussianBlur(im,(5,5),2)\n",
    "    \n",
    "   # print(\"All di fine\\n\")\n",
    "        \n",
    "    im_gray = cv2.cvtColor(im,cv2.COLOR_BGR2GRAY)\n",
    "    ret,thresh = cv2.threshold(im_gray,127,255,0)\n",
    "    contours,_ = cv2.findContours(thresh,1,2)\n",
    "    \n",
    "    file.write(label)\n",
    "    file.write(\",\")\n",
    "    \n",
    "    for i in range(5):\n",
    "        try:\n",
    "            area= cv2.contourArea(contours[i])\n",
    "            file.write(str(area))\n",
    "        except:\n",
    "            file.write(\"0\")\n",
    "        file.write(\",\")\n",
    "    file.write(\"\\n\")\n",
    "    #print(\"All di fine\\n\")\n",
    "    \n",
    "            "
   ]
  },
  {
   "cell_type": "code",
   "execution_count": 27,
   "metadata": {},
   "outputs": [
    {
     "name": "stdout",
     "output_type": "stream",
     "text": [
      "All di fine1\n",
      "\n"
     ]
    }
   ],
   "source": [
    " print(\"All di fine1\\n\")\n",
    "label=\"Parasitized\"\n",
    "dirList = glob.glob(\"C:\\\\Users\\\\user\\\\Desktop\\\\Malaria Detection Project\\\\cell_images\\\\Parasitized\\*.png\")\n",
    "for img_path in dirList:\n",
    "   # print(img_path)\n",
    "    im= cv2.imread(img_path)\n",
    "    im = cv2.GaussianBlur(im,(5,5),2)\n",
    "    \n",
    "   # print(\"All di fine\\n\")\n",
    "        \n",
    "    im_gray = cv2.cvtColor(im,cv2.COLOR_BGR2GRAY)\n",
    "    ret,thresh = cv2.threshold(im_gray,127,255,0)\n",
    "    contours,_ = cv2.findContours(thresh,1,2)\n",
    "    \n",
    "    file.write(label)\n",
    "    file.write(\",\")\n",
    "    \n",
    "    for i in range(5):\n",
    "        try:\n",
    "            area= cv2.contourArea(contours[i])\n",
    "            file.write(str(area))\n",
    "        except:\n",
    "            file.write(\"0\")\n",
    "        file.write(\",\")\n",
    "    file.write(\"\\n\")\n",
    "    #print(\"All di fine\\n\")\n",
    "    \n",
    "            "
   ]
  },
  {
   "cell_type": "markdown",
   "metadata": {},
   "source": [
    "# File containing dataset is saved as cell_images_datset.csv!!\n"
   ]
  }
 ],
 "metadata": {
  "kernelspec": {
   "display_name": "Python 3",
   "language": "python",
   "name": "python3"
  },
  "language_info": {
   "codemirror_mode": {
    "name": "ipython",
    "version": 3
   },
   "file_extension": ".py",
   "mimetype": "text/x-python",
   "name": "python",
   "nbconvert_exporter": "python",
   "pygments_lexer": "ipython3",
   "version": "3.8.3"
  }
 },
 "nbformat": 4,
 "nbformat_minor": 4
}
